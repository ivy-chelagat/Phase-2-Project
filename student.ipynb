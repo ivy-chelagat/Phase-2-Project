{
 "cells": [
  {
   "cell_type": "markdown",
   "metadata": {},
   "source": [
    "## Final Project Submission\n",
    "\n",
    "Please fill out:\n",
    "* Student name: Ivy Chelagat\n",
    "* Student pace: Full time\n",
    "* Scheduled project review date/time: 5/8/2025\n",
    "* Instructor name: Asha Deen\n",
    "* Blog post URL: https://www.linkedin.com/in/ivy-chelagat-043305353?lipi=urn%3Ali%3Apage%3Ad_flagship3_profile_view_base_contact_details%3B6HPV%2F4ICSemIjZgUUOn6Xw%3D%3D\n"
   ]
  }
 ],
 "metadata": {
  "kernelspec": {
   "display_name": "Python [conda env:base] *",
   "language": "python",
   "name": "conda-base-py"
  },
  "language_info": {
   "codemirror_mode": {
    "name": "ipython",
    "version": 3
   },
   "file_extension": ".py",
   "mimetype": "text/x-python",
   "name": "python",
   "nbconvert_exporter": "python",
   "pygments_lexer": "ipython3",
   "version": "3.12.7"
  }
 },
 "nbformat": 4,
 "nbformat_minor": 4
}
